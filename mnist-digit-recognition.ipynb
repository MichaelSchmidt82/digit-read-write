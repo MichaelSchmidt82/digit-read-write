{
 "cells": [
  {
   "cell_type": "code",
   "execution_count": 1,
   "metadata": {},
   "outputs": [
    {
     "name": "stderr",
     "output_type": "stream",
     "text": [
      "Using TensorFlow backend.\n"
     ]
    }
   ],
   "source": [
    "from keras.initializers import RandomUniform\n",
    "from keras.optimizers import Adam\n",
    "from keras.datasets import mnist\n",
    "from keras.models import Sequential\n",
    "from keras.layers import Dense, Dropout\n",
    "from keras.losses import categorical_crossentropy\n",
    "from keras.utils import to_categorical\n",
    "\n",
    "import numpy as np\n",
    "import time\n",
    "\n",
    "import matplotlib.pyplot as plt\n",
    "%matplotlib inline"
   ]
  },
  {
   "cell_type": "code",
   "execution_count": null,
   "metadata": {},
   "outputs": [],
   "source": []
  },
  {
   "cell_type": "code",
   "execution_count": 2,
   "metadata": {},
   "outputs": [
    {
     "name": "stdout",
     "output_type": "stream",
     "text": [
      "Matrix shapes:\n",
      "x_train: (60000, 784)\n",
      "y_train: (60000, 10)\n"
     ]
    }
   ],
   "source": [
    "## Constants ##\n",
    "num_classes = 10\n",
    "img_rows, img_cols = 28, 28\n",
    "\n",
    "## Data ##\n",
    "(x_train, y_train), (x_test, y_test) = mnist.load_data()\n",
    "\n",
    "x_train = x_train.reshape(x_train.shape[0], img_rows * img_cols)\n",
    "x_train = x_train.astype(np.float32) / 255.0\n",
    "\n",
    "x_test = x_test.reshape(x_test.shape[0], img_rows * img_cols)\n",
    "x_test = x_test.astype(np.float32) / 255.0\n",
    "\n",
    "y_train = to_categorical(y_train, num_classes)\n",
    "y_test = to_categorical(y_test, num_classes)\n",
    "\n",
    "\n",
    "## Hyperparameters ##\n",
    "epochs = 40\n",
    "batch_size = 512\n",
    "validation_split = 0.2\n",
    "kernel_initializer = RandomUniform(minval=0.0000001, \n",
    "                                   maxval=0.0001, \n",
    "                                   seed=None) \n",
    "\n",
    "print('Matrix shapes:')\n",
    "print('x_train:', x_train.shape)\n",
    "print('y_train:', y_train.shape)"
   ]
  },
  {
   "cell_type": "code",
   "execution_count": 3,
   "metadata": {},
   "outputs": [
    {
     "name": "stdout",
     "output_type": "stream",
     "text": [
      "Train on 48000 samples, validate on 12000 samples\n",
      "Epoch 1/40\n",
      "48000/48000 [==============================] - 1s 19us/step - loss: 0.6252 - acc: 0.8269 - val_loss: 0.2867 - val_acc: 0.9204\n",
      "Epoch 2/40\n",
      "48000/48000 [==============================] - 0s 5us/step - loss: 0.3309 - acc: 0.9043 - val_loss: 0.2243 - val_acc: 0.9387\n",
      "Epoch 3/40\n",
      "48000/48000 [==============================] - 0s 4us/step - loss: 0.2695 - acc: 0.9238 - val_loss: 0.1881 - val_acc: 0.9478\n",
      "Epoch 4/40\n",
      "48000/48000 [==============================] - 0s 5us/step - loss: 0.2304 - acc: 0.9340 - val_loss: 0.1635 - val_acc: 0.9546\n",
      "Epoch 5/40\n",
      "48000/48000 [==============================] - 0s 5us/step - loss: 0.2047 - acc: 0.9420 - val_loss: 0.1488 - val_acc: 0.9582\n",
      "Epoch 6/40\n",
      "48000/48000 [==============================] - 0s 5us/step - loss: 0.1844 - acc: 0.9462 - val_loss: 0.1332 - val_acc: 0.9610\n",
      "Epoch 7/40\n",
      "48000/48000 [==============================] - 0s 5us/step - loss: 0.1689 - acc: 0.9521 - val_loss: 0.1249 - val_acc: 0.9645\n",
      "Epoch 8/40\n",
      "48000/48000 [==============================] - 0s 5us/step - loss: 0.1546 - acc: 0.9557 - val_loss: 0.1155 - val_acc: 0.9665\n",
      "Epoch 9/40\n",
      "48000/48000 [==============================] - 0s 5us/step - loss: 0.1479 - acc: 0.9569 - val_loss: 0.1090 - val_acc: 0.9689\n",
      "Epoch 10/40\n",
      "48000/48000 [==============================] - 0s 5us/step - loss: 0.1373 - acc: 0.9596 - val_loss: 0.1050 - val_acc: 0.9685\n",
      "Epoch 11/40\n",
      "48000/48000 [==============================] - 0s 5us/step - loss: 0.1280 - acc: 0.9629 - val_loss: 0.0996 - val_acc: 0.9718\n",
      "Epoch 12/40\n",
      "48000/48000 [==============================] - 0s 5us/step - loss: 0.1238 - acc: 0.9639 - val_loss: 0.0947 - val_acc: 0.9713\n",
      "Epoch 13/40\n",
      "48000/48000 [==============================] - 0s 5us/step - loss: 0.1165 - acc: 0.9659 - val_loss: 0.0945 - val_acc: 0.9717\n",
      "Epoch 14/40\n",
      "48000/48000 [==============================] - 0s 5us/step - loss: 0.1122 - acc: 0.9666 - val_loss: 0.0875 - val_acc: 0.9737\n",
      "Epoch 15/40\n",
      "48000/48000 [==============================] - 0s 5us/step - loss: 0.1064 - acc: 0.9684 - val_loss: 0.0901 - val_acc: 0.9745\n",
      "Epoch 16/40\n",
      "48000/48000 [==============================] - 0s 5us/step - loss: 0.1040 - acc: 0.9686 - val_loss: 0.0862 - val_acc: 0.9744\n",
      "Epoch 17/40\n",
      "48000/48000 [==============================] - 0s 5us/step - loss: 0.0994 - acc: 0.9709 - val_loss: 0.0844 - val_acc: 0.9754\n",
      "Epoch 18/40\n",
      "48000/48000 [==============================] - 0s 5us/step - loss: 0.0965 - acc: 0.9711 - val_loss: 0.0844 - val_acc: 0.9759\n",
      "Epoch 19/40\n",
      "48000/48000 [==============================] - 0s 5us/step - loss: 0.0942 - acc: 0.9707 - val_loss: 0.0806 - val_acc: 0.9765\n",
      "Epoch 20/40\n",
      "48000/48000 [==============================] - 0s 5us/step - loss: 0.0884 - acc: 0.9738 - val_loss: 0.0779 - val_acc: 0.9772\n",
      "Epoch 21/40\n",
      "48000/48000 [==============================] - 0s 5us/step - loss: 0.0859 - acc: 0.9736 - val_loss: 0.0793 - val_acc: 0.9771\n",
      "Epoch 22/40\n",
      "48000/48000 [==============================] - 0s 5us/step - loss: 0.0827 - acc: 0.9749 - val_loss: 0.0771 - val_acc: 0.9777\n",
      "Epoch 23/40\n",
      "48000/48000 [==============================] - 0s 5us/step - loss: 0.0841 - acc: 0.9741 - val_loss: 0.0756 - val_acc: 0.9781\n",
      "Epoch 24/40\n",
      "48000/48000 [==============================] - 0s 5us/step - loss: 0.0806 - acc: 0.9749 - val_loss: 0.0768 - val_acc: 0.9770\n",
      "Epoch 25/40\n",
      "48000/48000 [==============================] - 0s 5us/step - loss: 0.0778 - acc: 0.9762 - val_loss: 0.0739 - val_acc: 0.9771\n",
      "Epoch 26/40\n",
      "48000/48000 [==============================] - 0s 5us/step - loss: 0.0750 - acc: 0.9767 - val_loss: 0.0745 - val_acc: 0.9771\n",
      "Epoch 27/40\n",
      "48000/48000 [==============================] - 0s 5us/step - loss: 0.0733 - acc: 0.9774 - val_loss: 0.0770 - val_acc: 0.9775\n",
      "Epoch 28/40\n",
      "48000/48000 [==============================] - 0s 5us/step - loss: 0.0732 - acc: 0.9776 - val_loss: 0.0743 - val_acc: 0.9782\n",
      "Epoch 29/40\n",
      "48000/48000 [==============================] - 0s 5us/step - loss: 0.0680 - acc: 0.9793 - val_loss: 0.0742 - val_acc: 0.9792\n",
      "Epoch 30/40\n",
      "48000/48000 [==============================] - 0s 5us/step - loss: 0.0698 - acc: 0.9790 - val_loss: 0.0728 - val_acc: 0.9784\n",
      "Epoch 31/40\n",
      "48000/48000 [==============================] - 0s 5us/step - loss: 0.0671 - acc: 0.9787 - val_loss: 0.0718 - val_acc: 0.9785\n",
      "Epoch 32/40\n",
      "48000/48000 [==============================] - 0s 5us/step - loss: 0.0636 - acc: 0.9792 - val_loss: 0.0735 - val_acc: 0.9788\n",
      "Epoch 33/40\n",
      "48000/48000 [==============================] - 0s 5us/step - loss: 0.0626 - acc: 0.9803 - val_loss: 0.0727 - val_acc: 0.9794\n",
      "Epoch 34/40\n",
      "48000/48000 [==============================] - 0s 5us/step - loss: 0.0640 - acc: 0.9800 - val_loss: 0.0716 - val_acc: 0.9793\n",
      "Epoch 35/40\n",
      "48000/48000 [==============================] - 0s 5us/step - loss: 0.0613 - acc: 0.9808 - val_loss: 0.0706 - val_acc: 0.9793\n",
      "Epoch 36/40\n",
      "48000/48000 [==============================] - 0s 5us/step - loss: 0.0601 - acc: 0.9807 - val_loss: 0.0706 - val_acc: 0.9789\n",
      "Epoch 37/40\n",
      "48000/48000 [==============================] - 0s 5us/step - loss: 0.0583 - acc: 0.9808 - val_loss: 0.0697 - val_acc: 0.9794\n",
      "Epoch 38/40\n",
      "48000/48000 [==============================] - 0s 5us/step - loss: 0.0573 - acc: 0.9816 - val_loss: 0.0708 - val_acc: 0.9794\n",
      "Epoch 39/40\n",
      "48000/48000 [==============================] - 0s 5us/step - loss: 0.0575 - acc: 0.9809 - val_loss: 0.0703 - val_acc: 0.9792\n",
      "Epoch 40/40\n",
      "48000/48000 [==============================] - 0s 5us/step - loss: 0.0576 - acc: 0.9816 - val_loss: 0.0714 - val_acc: 0.9797\n"
     ]
    }
   ],
   "source": [
    "model = Sequential()\n",
    "model.add(Dense(320, activation='relu', \n",
    "                kernel_initializer=kernel_initializer,\n",
    "                input_shape=[x_train.shape[1]]))\n",
    "model.add(Dropout(0.66))\n",
    "model.add(Dense(num_classes, activation='softmax'))\n",
    "model.compile(loss=categorical_crossentropy, optimizer=Adam(),metrics=['accuracy'])\n",
    "\n",
    "t0 = time.time()\n",
    "history = model.fit(x_train, y_train, \n",
    "                    epochs=epochs, \n",
    "                    batch_size=batch_size, \n",
    "                    verbose=1, \n",
    "                    validation_split=validation_split)\n",
    "t1 = time.time()"
   ]
  },
  {
   "cell_type": "code",
   "execution_count": 4,
   "metadata": {},
   "outputs": [
    {
     "name": "stdout",
     "output_type": "stream",
     "text": [
      "10000/10000 [==============================] - 0s 14us/step\n"
     ]
    },
    {
     "data": {
      "image/png": "[encoded data removed]",
      "text/plain": [
       "<Figure size 720x576 with 2 Axes>"
      ]
     },
     "metadata": {},
     "output_type": "display_data"
    },
    {
     "name": "stdout",
     "output_type": "stream",
     "text": [
      "time elapsed:  9.983 seconds\n",
      "test loss:   0.067\n",
      "test accuracy:  98.030 %\n"
     ]
    }
   ],
   "source": [
    "score = model.evaluate(x_test, y_test, verbose=1)\n",
    "plt.figure(figsize=(10, 8))\n",
    "plt.subplot(211)\n",
    "plt.plot(history.history['acc'])\n",
    "plt.plot(history.history['val_acc'])\n",
    "plt.title('model accuracy')\n",
    "plt.xlabel('epoch')\n",
    "plt.ylabel('accuracy')\n",
    "plt.legend(['train', 'test'], loc='lower right')\n",
    "\n",
    "plt.subplot(212)\n",
    "plt.plot(history.history['loss'])\n",
    "plt.plot(history.history['val_loss'])\n",
    "plt.title('model loss')\n",
    "plt.xlabel('epoch')\n",
    "plt.ylabel('loss')\n",
    "plt.legend(['train', 'test'], loc='upper right')\n",
    "\n",
    "plt.tight_layout()\n",
    "plt.show()\n",
    "\n",
    "print('time elapsed: %6.3f' % float(t1-t0), 'seconds')\n",
    "print('test loss: %7.3f' % score[0])\n",
    "print('test accuracy: %7.3f' % (score[1] * 100), '%')"
   ]
  },
  {
   "cell_type": "code",
   "execution_count": null,
   "metadata": {},
   "outputs": [],
   "source": []
  },
  {
   "cell_type": "code",
   "execution_count": null,
   "metadata": {},
   "outputs": [],
   "source": []
  }
 ],
 "metadata": {
  "kernelspec": {
   "display_name": "Python 3",
   "language": "python",
   "name": "python3"
  },
  "language_info": {
   "codemirror_mode": {
    "name": "ipython",
    "version": 3
   },
   "file_extension": ".py",
   "mimetype": "text/x-python",
   "name": "python",
   "nbconvert_exporter": "python",
   "pygments_lexer": "ipython3",
   "version": "3.6.5"
  }
 },
 "nbformat": 4,
 "nbformat_minor": 2
}

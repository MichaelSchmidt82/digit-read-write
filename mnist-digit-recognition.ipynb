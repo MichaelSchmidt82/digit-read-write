{
 "cells": [
  {
   "cell_type": "markdown",
   "metadata": {},
   "source": [
    "### Project Parameters"
   ]
  },
  {
   "cell_type": "code",
   "execution_count": null,
   "metadata": {},
   "outputs": [],
   "source": [
    "## Imports ##\n",
    "from keras.initializers import RandomUniform\n",
    "from keras.optimizers import Adam\n",
    "from keras.datasets import mnist\n",
    "from keras.models import Sequential\n",
    "from keras.layers import Dense, Dropout\n",
    "from keras.losses import categorical_crossentropy\n",
    "from keras.utils import to_categorical\n",
    "\n",
    "import numpy as np\n",
    "import time\n",
    "\n",
    "import matplotlib.pyplot as plt\n",
    "%matplotlib inline\n",
    "\n",
    "## Constants ##\n",
    "num_classes = 10\n",
    "img_rows, img_cols = 28, 28\n",
    "\n",
    "## Data ##\n",
    "(x_train, y_train), (x_test, y_test) = mnist.load_data()\n",
    "\n",
    "x_train = x_train.reshape(x_train.shape[0], img_rows * img_cols)\n",
    "x_train = x_train.astype(np.float32) / 255.0\n",
    "\n",
    "x_test = x_test.reshape(x_test.shape[0], img_rows * img_cols)\n",
    "x_test = x_test.astype(np.float32) / 255.0\n",
    "\n",
    "y_train = to_categorical(y_train, num_classes)\n",
    "y_test = to_categorical(y_test, num_classes)\n",
    "\n",
    "\n",
    "## Hyperparameters ##\n",
    "epochs = 40\n",
    "batch_size = 512\n",
    "validation_split = 0.2\n",
    "kernel_initializer = RandomUniform(minval=0.0000001, \n",
    "                                   maxval=0.0001, \n",
    "                                   seed=None)\n",
    "loss = categorical_crossentropy\n",
    "optimizer = Adam()\n",
    "metrics = ['accuracy']\n",
    "verbose = 1\n",
    "\n",
    "print('Matrix shapes:')\n",
    "print('x_train:\\t', x_train.shape)\n",
    "print('y_train:\\t', y_train.shape)\n",
    "print('x_test:\\t\\t', x_test.shape)\n",
    "print('y_test:\\t\\t', y_test.shape)"
   ]
  },
  {
   "cell_type": "code",
   "execution_count": null,
   "metadata": {},
   "outputs": [],
   "source": [
    "model = Sequential()\n",
    "model.add(Dense(320, activation='relu', \n",
    "                kernel_initializer=kernel_initializer,\n",
    "                input_shape=[x_train.shape[1]]))\n",
    "model.add(Dropout(0.66))\n",
    "model.add(Dense(num_classes, activation='softmax'))\n",
    "model.compile(loss=loss, \n",
    "              optimizer=optimizer, \n",
    "              metrics=metrics)\n",
    "t0 = time.time()\n",
    "history = model.fit(x_train, y_train, \n",
    "                    epochs=epochs, \n",
    "                    batch_size=batch_size, \n",
    "                    verbose=verbose, \n",
    "                    validation_split=validation_split)\n",
    "t1 = time.time()"
   ]
  },
  {
   "cell_type": "code",
   "execution_count": null,
   "metadata": {},
   "outputs": [],
   "source": [
    "score = model.evaluate(x_test, y_test, verbose=1)\n",
    "plt.figure(figsize=(10, 8))\n",
    "plt.subplot(211)\n",
    "plt.plot(history.history['acc'])\n",
    "plt.plot(history.history['val_acc'])\n",
    "plt.title('model accuracy')\n",
    "plt.xlabel('epoch')\n",
    "plt.ylabel('accuracy')\n",
    "plt.legend(['train', 'test'], loc='lower right')\n",
    "\n",
    "plt.subplot(212)\n",
    "plt.plot(history.history['loss'])\n",
    "plt.plot(history.history['val_loss'])\n",
    "plt.title('model loss')\n",
    "plt.xlabel('epoch')\n",
    "plt.ylabel('loss')\n",
    "plt.legend(['train', 'test'], loc='upper right')\n",
    "\n",
    "plt.tight_layout()\n",
    "plt.show()\n",
    "\n",
    "print('time elapsed: %6.3f' % float(t1-t0), 'seconds')\n",
    "print('test loss: %7.3f' % score[0])\n",
    "print('test accuracy: %7.3f' % (score[1] * 100), '%')"
   ]
  },
  {
   "cell_type": "code",
   "execution_count": null,
   "metadata": {},
   "outputs": [],
   "source": [
    "result = model.predict(x_train[:5])"
   ]
  },
  {
   "cell_type": "code",
   "execution_count": null,
   "metadata": {},
   "outputs": [],
   "source": []
  },
  {
   "cell_type": "code",
   "execution_count": null,
   "metadata": {},
   "outputs": [],
   "source": []
  }
 ],
 "metadata": {
  "kernelspec": {
   "display_name": "Python 3",
   "language": "python",
   "name": "python3"
  },
  "language_info": {
   "codemirror_mode": {
    "name": "ipython",
    "version": 3
   },
   "file_extension": ".py",
   "mimetype": "text/x-python",
   "name": "python",
   "nbconvert_exporter": "python",
   "pygments_lexer": "ipython3",
   "version": "3.6.5"
  }
 },
 "nbformat": 4,
 "nbformat_minor": 2
}

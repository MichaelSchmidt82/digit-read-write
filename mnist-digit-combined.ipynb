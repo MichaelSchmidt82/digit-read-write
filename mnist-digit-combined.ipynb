{
 "cells": [
  {
   "cell_type": "markdown",
   "metadata": {},
   "source": [
    "### Project parameters"
   ]
  },
  {
   "cell_type": "code",
   "execution_count": 16,
   "metadata": {},
   "outputs": [
    {
     "name": "stdout",
     "output_type": "stream",
     "text": [
      "Matrix Shapes:\n",
      "img_shape:\t (28, 28, 1)\n",
      "x_reader:\t (60000, 784)\n",
      "y_reader:\t (60000, 10)\n",
      "x_writer:\t (60000, 28, 28, 1)\n",
      "y_writer:\t (60000, 1)\n"
     ]
    }
   ],
   "source": [
    "## Imports ##\n",
    "import numpy as np\n",
    "import matplotlib.pyplot as plt\n",
    "%matplotlib inline\n",
    "\n",
    "from keras import layers, optimizers, Model\n",
    "from keras.utils import to_categorical\n",
    "from keras.losses import categorical_crossentropy\n",
    "from keras.layers import Dense, Dropout\n",
    "from keras.models import Sequential\n",
    "from keras.datasets import mnist\n",
    "from keras.optimizers import Adam\n",
    "from keras.initializers import RandomUniform\n",
    "from keras.utils.vis_utils import model_to_dot\n",
    "\n",
    "from IPython.display import display, SVG\n",
    "\n",
    "## Constants\n",
    "num_classes = 10\n",
    "img_rows, img_cols, img_chan = 28, 28, 1\n",
    "img_shape = (img_rows, img_cols, img_chan)\n",
    "\n",
    "metrics = ['accuracy']\n",
    "verbose = 0\n",
    "\n",
    "\n",
    "## Data ##\n",
    "(x_reader, y_reader), (_, _) = mnist.load_data()\n",
    "x_writer, y_writer = x_reader, y_reader\n",
    "\n",
    "x_reader = x_reader.reshape(x_reader.shape[0], img_rows * img_cols)\n",
    "x_reader = x_reader.astype(np.float32) / 255.0\n",
    "\n",
    "x_writer = (x_writer.astype(np.float32) - 127.5) / 127.5 # Rescale -1 to 1\n",
    "x_writer = np.expand_dims(x_writer, axis=3)\n",
    "\n",
    "y_reader = to_categorical(y_reader, num_classes)\n",
    "y_writer = y_writer.reshape(-1, 1)\n",
    "\n",
    "history = [[],[],[],[]]\n",
    "\n",
    "\n",
    "## Hyperparameters ##\n",
    "\n",
    "# Reading\n",
    "reader_epochs = 40\n",
    "reader_validation_split = 0.2\n",
    "reader_batch_size = 512\n",
    "reader_kernel_initializer = RandomUniform(minval=0.0000001, \n",
    "                                          maxval=0.0001, \n",
    "                                          seed=None)\n",
    "reader_optimizer = optimizers.Adam()\n",
    "\n",
    "# Writing\n",
    "writer_epochs = 22000\n",
    "writer_latent_dim = 100\n",
    "writer_batch_size = 32\n",
    "writer_half_batch = int(batch_size / 2)\n",
    "student_optimizer = optimizers.Adam(lr=0.0002,      # lr default:         0.001\n",
    "                                    beta_1=0.5,     # beta_1 default:     0.9\n",
    "                                    beta_2=0.999, \n",
    "                                    epsilon=None, \n",
    "                                    decay=0.0, \n",
    "                                    amsgrad=False)\n",
    "grader_optimizer = student_optimizer\n",
    "classroom_optimizer = grader_optimizer\n",
    "\n",
    "print(\"Matrix Shapes:\")\n",
    "print(\"img_shape:\\t\", img_shape)\n",
    "print('x_reader:\\t', x_read.shape)\n",
    "print('y_reader:\\t', y_read.shape)\n",
    "print('x_writer:\\t', x_write.shape)\n",
    "print('y_writer:\\t', y_write.shape)"
   ]
  },
  {
   "cell_type": "markdown",
   "metadata": {},
   "source": [
    "# Models\n",
    "\n",
    "### Reading model"
   ]
  },
  {
   "cell_type": "code",
   "execution_count": null,
   "metadata": {},
   "outputs": [],
   "source": []
  },
  {
   "cell_type": "code",
   "execution_count": 1,
   "metadata": {},
   "outputs": [
    {
     "ename": "NameError",
     "evalue": "name 'Sequential' is not defined",
     "output_type": "error",
     "traceback": [
      "\u001b[0;31m---------------------------------------------------------------------------\u001b[0m",
      "\u001b[0;31mNameError\u001b[0m                                 Traceback (most recent call last)",
      "\u001b[0;32m<ipython-input-1-50c1920ff97e>\u001b[0m in \u001b[0;36m<module>\u001b[0;34m()\u001b[0m\n\u001b[0;32m----> 1\u001b[0;31m \u001b[0mreader\u001b[0m \u001b[0;34m=\u001b[0m \u001b[0mSequential\u001b[0m\u001b[0;34m(\u001b[0m\u001b[0;34m)\u001b[0m\u001b[0;34m\u001b[0m\u001b[0m\n\u001b[0m\u001b[1;32m      2\u001b[0m reader.add(Dense(320, activation='relu', \n\u001b[1;32m      3\u001b[0m                 \u001b[0mkernel_initializer\u001b[0m\u001b[0;34m=\u001b[0m\u001b[0mreader_kernel_initializer\u001b[0m\u001b[0;34m,\u001b[0m\u001b[0;34m\u001b[0m\u001b[0m\n\u001b[1;32m      4\u001b[0m                 input_shape=[x_reader.shape[1]]))\n\u001b[1;32m      5\u001b[0m \u001b[0mreader\u001b[0m\u001b[0;34m.\u001b[0m\u001b[0madd\u001b[0m\u001b[0;34m(\u001b[0m\u001b[0mDropout\u001b[0m\u001b[0;34m(\u001b[0m\u001b[0;36m0.66\u001b[0m\u001b[0;34m)\u001b[0m\u001b[0;34m)\u001b[0m\u001b[0;34m\u001b[0m\u001b[0m\n",
      "\u001b[0;31mNameError\u001b[0m: name 'Sequential' is not defined"
     ]
    }
   ],
   "source": [
    "reader = Sequential()\n",
    "reader.add(Dense(320, activation='relu', \n",
    "                kernel_initializer=reader_kernel_initializer,\n",
    "                input_shape=[x_reader.shape[1]]))\n",
    "reader.add(Dropout(0.66))\n",
    "reader.add(Dense(num_classes, activation='softmax'))\n",
    "reader.compile(loss=categorical_crossentropy, \n",
    "               optimizer=reader_optimizer, \n",
    "               metrics=metrics)"
   ]
  },
  {
   "cell_type": "markdown",
   "metadata": {},
   "source": [
    "###"
   ]
  },
  {
   "cell_type": "code",
   "execution_count": null,
   "metadata": {},
   "outputs": [],
   "source": []
  },
  {
   "cell_type": "code",
   "execution_count": null,
   "metadata": {},
   "outputs": [],
   "source": []
  },
  {
   "cell_type": "code",
   "execution_count": null,
   "metadata": {},
   "outputs": [],
   "source": [
    "reader_hist = reader.fit(x_train, y_train, \n",
    "                         epochs=reader_epochs, \n",
    "                         batch_size=reader_batch_size, \n",
    "                         verbose=verbose, \n",
    "                         validation_split=validation_split)"
   ]
  }
 ],
 "metadata": {
  "kernelspec": {
   "display_name": "Python 3",
   "language": "python",
   "name": "python3"
  },
  "language_info": {
   "codemirror_mode": {
    "name": "ipython",
    "version": 3
   },
   "file_extension": ".py",
   "mimetype": "text/x-python",
   "name": "python",
   "nbconvert_exporter": "python",
   "pygments_lexer": "ipython3",
   "version": "3.6.5"
  }
 },
 "nbformat": 4,
 "nbformat_minor": 2
}
